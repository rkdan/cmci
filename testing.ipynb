{
 "cells": [
  {
   "cell_type": "code",
   "execution_count": 1,
   "metadata": {},
   "outputs": [],
   "source": [
    "import torch\n",
    "import torchaudio\n",
    "\n",
    "import numpy as np\n",
    "import pandas as pd\n",
    "\n",
    "import os\n",
    "\n",
    "from scipy.io import wavfile as wav\n",
    "from functools import lru_cache\n",
    "\n",
    "from tqdm import tqdm, trange"
   ]
  },
  {
   "cell_type": "code",
   "execution_count": 2,
   "metadata": {},
   "outputs": [],
   "source": [
    "class Files:\n",
    "    data_loc = 'data/Calls for ML/'\n",
    "\n",
    "    # create symlinks so that all the data can be seen from labelled_data\n",
    "    lb_data_loc = 'data/Calls for ML/labelled_data/'\n",
    "\n",
    "    state_dict = 'data/Calls for ML/simple_rnn_sd.pth'\n",
    "\n",
    "    ml_test = 'ML_Test.wav'\n",
    "    labels_file = 'Calls_ML.xlsx'"
   ]
  },
  {
   "cell_type": "code",
   "execution_count": 3,
   "metadata": {},
   "outputs": [
    {
     "name": "stderr",
     "output_type": "stream",
     "text": [
      "/Users/rkd/Research/Monke/cmci/venv/lib/python3.9/site-packages/torchaudio/functional/functional.py:576: UserWarning: At least one mel filterbank has all zero values. The value for `n_mels` (128) may be set too high. Or, the value for `n_freqs` (201) may be set too low.\n",
      "  warnings.warn(\n"
     ]
    }
   ],
   "source": [
    "device = 'cuda' if torch.cuda.is_available() else 'cpu'\n",
    "\n",
    "SR = 44100\n",
    "N_MELS = 40\n",
    "FEATURIZER = torchaudio.transforms.MFCC(sample_rate=SR, n_mfcc=N_MELS).to(device)\n",
    "softplus = torch.nn.Softplus()"
   ]
  },
  {
   "cell_type": "code",
   "execution_count": 4,
   "metadata": {},
   "outputs": [],
   "source": [
    "@lru_cache(maxsize=100)\n",
    "def load_audio_file(filename):\n",
    "    sr, audio = wav.read(filename)\n",
    "    if len(audio.shape) == 2:\n",
    "        audio = audio[:, 0]  # take the first channel\n",
    "    audio = audio.astype('f')/1000  # scale values down by 1000.\n",
    "    return sr, audio"
   ]
  },
  {
   "cell_type": "code",
   "execution_count": 5,
   "metadata": {},
   "outputs": [],
   "source": [
    "def load_audio(file_path):\n",
    "    sr, audio = load_audio_file(file_path)\n",
    "    audio = torchaudio.functional.resample(torch.tensor(audio), sr, SR)\n",
    "    return audio"
   ]
  },
  {
   "cell_type": "code",
   "execution_count": 6,
   "metadata": {},
   "outputs": [],
   "source": [
    "def preprocess_call_labels(calls_og, keep_only_conures=True):\n",
    "    calls = calls_og.copy()\n",
    "    calls.columns = [c.lower().replace(' ', '_') for c in calls.columns]\n",
    "    if keep_only_conures:\n",
    "        calls = calls.loc[~calls.call_type.isna() | (calls.interference == 'Conure')].reset_index(drop=True) #drop conure calls?\n",
    "    calls.loc[calls.call_type.isna(), 'call_type'] = 'interference' # set all unknown call types to interference\n",
    "    calls = calls.loc[calls.start < calls.end].reset_index(drop=True)\n",
    "    calls['call_type'] = calls.call_type.apply(lambda r: r.split(' ')[0])\n",
    "    return calls"
   ]
  },
  {
   "cell_type": "code",
   "execution_count": 7,
   "metadata": {},
   "outputs": [],
   "source": [
    "class AudioDataset(torch.utils.data.Dataset):\n",
    "    def __init__(self, device='cpu'):\n",
    "        self.audio = {\n",
    "            f.replace('.wav', ''): load_audio(Files.lb_data_loc + f).to(device) for f in os.listdir(Files.lb_data_loc) if '.wav' in f\n",
    "        }\n",
    "        self.audio_lens = {k: (len(a), len(a)/SR) for k, a in self.audio.items()}\n",
    "\n",
    "        calls = pd.read_excel(os.path.join(Files.lb_data_loc, Files.labels_file))\n",
    "        calls = preprocess_call_labels(calls, keep_only_conures=False)\n",
    "        calls = calls.loc[\n",
    "            (calls.call_type != 'interference'),\n",
    "            ['file', 'call_type', 'start', 'end']\n",
    "        ]\n",
    "\n",
    "        calls_shaldon = pd.read_excel(os.path.join(Files.lb_data_loc, 'Shaldon_Training_Labels.xlsx'))\n",
    "        calls_shaldon = calls_shaldon.loc[~calls_shaldon.Call_Type.isna(), ['File', 'Call_Type', 'Start', 'End']]\n",
    "        calls_shaldon['File'] = 'Shaldon_Combined'\n",
    "        calls_shaldon.columns = calls_shaldon.columns.str.lower()\n",
    "\n",
    "        calls_blackpool = pd.read_excel(os.path.join(Files.lb_data_loc, 'Blackpool_Labels.xlsx'))\n",
    "        calls_blackpool = calls_blackpool.loc[~calls_blackpool.Call_Type.isna(), ['File', 'Call_Type', 'Start', 'End']]\n",
    "        calls_blackpool['File'] = 'Blackpool_Combined_FINAL'\n",
    "        calls_blackpool.columns = calls_blackpool.columns.str.lower()\n",
    "\n",
    "        self.labels = pd.concat([calls, calls_shaldon, calls_blackpool], axis=0).reset_index(drop=True)\n",
    "\n",
    "        # l(\"Computing mfcc.\")\n",
    "        self.featurizer = FEATURIZER\n",
    "\n",
    "        # l(\"Preprocessing label time series.\")\n",
    "        self.nps = self.featurizer(torch.zeros(1, SR).to(device)).shape[-1]\n",
    "\n",
    "        self.features = {k: self.featurizer(a).T for k, a in self.audio.items()}\n",
    "\n",
    "        self.label_ts = {k: None for k in self.audio.keys()}\n",
    "        ts = {k: self.audio_lens[k][-1]*torch.arange(f.shape[0]).to(device)/f.shape[0] for k, f in self.features.items()}\n",
    "        for k in ts.keys():\n",
    "            temp_df = np.asarray(self.labels.loc[self.labels.file == k, ['start', 'end']])\n",
    "            self.label_ts[k] = torch.zeros_like(ts[k])\n",
    "            for start, end in temp_df:\n",
    "                self.label_ts[k][(ts[k] >= start) & (ts[k] < end)] = 1.0\n",
    "        self.ts = ts\n",
    "\n",
    "    def __len__(self):\n",
    "        return 1\n",
    "\n",
    "    def get_samples(self, audio_len=2.5):\n",
    "        assert audio_len < 5\n",
    "        segm_len = int(self.nps * audio_len)\n",
    "\n",
    "        features = []\n",
    "        labels = []\n",
    "        zoos = []\n",
    "\n",
    "        # l('Processing data.')\n",
    "        files_to_process = [f for f in self.features.keys() if f != 'ML_Test_3']\n",
    "        for file in files_to_process:\n",
    "            # l(f'Processing {file}')\n",
    "            lbs, feats = self.label_ts[file], self.features[file]\n",
    "            for i in trange(max(0, len(feats)//segm_len)):\n",
    "                start_idx = i*segm_len # np.random.choice(len(feats) - segm_len - 1)\n",
    "                end_idx = start_idx + segm_len\n",
    "\n",
    "                _ft = feats[None, start_idx:end_idx, :].clone()\n",
    "                _lb = lbs[None, start_idx:end_idx].clone()\n",
    "                if (len(_ft[0]) == len(_lb[0])) and (len(_lb[0]) == segm_len):\n",
    "                    features.append(_ft)\n",
    "                    labels.append(_lb)\n",
    "                    zoos.append(np.array([file]*segm_len, dtype=str)[None, ...])\n",
    "\n",
    "        return (torch.cat(features, axis=0), torch.cat(labels, axis=0),\n",
    "                np.concatenate(zoos, axis=0))\n",
    "\n",
    "    def __getitem__(self, *args):\n",
    "        return self.get_samples()"
   ]
  },
  {
   "cell_type": "code",
   "execution_count": 8,
   "metadata": {},
   "outputs": [
    {
     "name": "stderr",
     "output_type": "stream",
     "text": [
      "100%|██████████| 608/608 [00:00<00:00, 8039.17it/s]\n",
      "100%|██████████| 11/11 [00:00<00:00, 3858.28it/s]\n",
      "100%|██████████| 19/19 [00:00<00:00, 6335.30it/s]\n",
      "100%|██████████| 643/643 [00:00<00:00, 8455.86it/s]\n",
      "100%|██████████| 157/157 [00:00<00:00, 9261.94it/s]\n",
      "100%|██████████| 799/799 [00:00<00:00, 9825.63it/s]\n"
     ]
    }
   ],
   "source": [
    "dataset = AudioDataset(device=device)\n",
    "X_full, y_full, z_full = dataset[...]"
   ]
  },
  {
   "cell_type": "code",
   "execution_count": 9,
   "metadata": {},
   "outputs": [],
   "source": [
    "idx = np.random.choice(len(y_full), len(y_full), replace=False)\n",
    "train_idx, test_idx = idx[:int(0.9*len(idx))], idx[int(0.9*len(idx)):]\n",
    "\n",
    "X_train = X_full[train_idx, ...]\n",
    "y_train = y_full[train_idx, ...]\n",
    "\n",
    "X_test = X_full[test_idx, ...]\n",
    "y_test = y_full[test_idx, ...].cpu().numpy().reshape(-1)\n",
    "z_test = z_full[test_idx, ...].reshape(-1)\n",
    "\n",
    "conv = {'Blackpool_Combined_FINAL': 'blackpool', 'Shaldon_Combined': 'shaldon',\n",
    "        'ML_Test': 'banham', 'ML_Test_2a': 'banham', 'ML_Test_2b': 'banham'}\n",
    "\n",
    "for k, repl in conv.items():\n",
    "    z_test[z_test == k] = repl\n",
    "\n",
    "X_test_2 = dataset.featurizer(dataset.audio['ML_Test_3']).T[None, ...]\n",
    "y_test_2 = dataset.label_ts['ML_Test_3'].cpu().numpy()"
   ]
  },
  {
   "cell_type": "code",
   "execution_count": 76,
   "metadata": {},
   "outputs": [],
   "source": [
    "class Classifier(torch.nn.Module):\n",
    "    def __init__(self, num_inp, num_lstm=3):\n",
    "        super().__init__()\n",
    "        self.num_lstm = num_lstm\n",
    "        self.lstm = torch.nn.LSTM(num_inp, 16, num_lstm, batch_first=True)\n",
    "        self.fc = torch.nn.Linear(16, 1)\n",
    "\n",
    "    def forward(self, x):\n",
    "        x = (x - x.mean(axis=-1)[..., None]) / (x.std(axis=-1)[..., None] + 1e-9)\n",
    "        h0 = torch.zeros(self.num_lstm, x.size(0), 16).to(x.device).normal_()*0.01\n",
    "        c0 = torch.zeros(self.num_lstm, x.size(0), 16).to(x.device).normal_()*0.01\n",
    "\n",
    "        out, _ = self.lstm(x, (h0, c0))\n",
    "        out = self.fc(out).sigmoid()[..., 0]\n",
    "        return out"
   ]
  },
  {
   "cell_type": "code",
   "execution_count": 77,
   "metadata": {},
   "outputs": [],
   "source": [
    "classifier = Classifier(N_MELS).to(device)\n",
    "optimizer = torch.optim.Adam(classifier.parameters(), lr=1e-3)\n",
    "criterion = torch.nn.BCELoss()"
   ]
  },
  {
   "cell_type": "code",
   "execution_count": 78,
   "metadata": {},
   "outputs": [],
   "source": [
    "from sklearn.metrics import confusion_matrix"
   ]
  },
  {
   "cell_type": "code",
   "execution_count": 79,
   "metadata": {},
   "outputs": [
    {
     "name": "stderr",
     "output_type": "stream",
     "text": [
      "                                                                                    \r"
     ]
    }
   ],
   "source": [
    "losses = []\n",
    "iterator = trange(2000, leave=False)\n",
    "for i in iterator:\n",
    "    optimizer.zero_grad()\n",
    "    idx = np.random.choice(len(y_train), 500)\n",
    "    y_prob = classifier(X_train[idx])\n",
    "    loss = criterion(y_prob, y_train[idx])\n",
    "    # loss = -torch.distributions.Bernoulli(probs=y_prob).log_prob(y_train[idx]).sum()\n",
    "    if i % 100 == 0:\n",
    "        tr_cm = confusion_matrix(y_train[idx].reshape(-1).cpu(), y_prob.round().reshape(-1).detach().cpu(), normalize='all').round(3)*100\n",
    "        tr_cm = (tr_cm[0, 0] + tr_cm[1, 1]).round(2)\n",
    "\n",
    "        pred = classifier(X_test).detach().cpu().round().reshape(-1)\n",
    "        pred[0] = 0; pred[-1] = 1\n",
    "        cm = confusion_matrix(y_test, pred, normalize='all').round(3)*100\n",
    "        cm = (cm[0, 0] + cm[1, 1]).round(2)\n",
    "\n",
    "        pred_2 = classifier(X_test_2)[0].detach().cpu().numpy()\n",
    "        cm_2 = confusion_matrix(y_test_2, pred_2.round(), normalize='all').round(3)*100\n",
    "        cm_2 = (cm_2[0, 0] + cm_2[1, 1]).round(2)\n",
    "\n",
    "    losses.append(loss.item())\n",
    "    iterator.set_description(f'L:{np.round(loss.item(), 2)},Tr:{tr_cm},Te:{cm},Te2:{cm_2}')\n",
    "    # wandb.log(dict(l=loss.item(), tr=tr_cm, te=cm, te_mlt3=cm_2))\n",
    "    loss.backward()\n",
    "    optimizer.step()"
   ]
  },
  {
   "cell_type": "code",
   "execution_count": 87,
   "metadata": {},
   "outputs": [],
   "source": [
    "classifier.eval()\n",
    "pred = classifier(X_test_2).detach().cpu().round().reshape(-1)"
   ]
  },
  {
   "cell_type": "code",
   "execution_count": 89,
   "metadata": {},
   "outputs": [
    {
     "data": {
      "text/plain": [
       "(0.0, 2000.0)"
      ]
     },
     "execution_count": 89,
     "metadata": {},
     "output_type": "execute_result"
    },
    {
     "data": {
      "image/png": "[encoded data removed]",
      "text/plain": [
       "<Figure size 700x200 with 1 Axes>"
      ]
     },
     "metadata": {},
     "output_type": "display_data"
    }
   ],
   "source": [
    "import matplotlib.pyplot as plt\n",
    "\n",
    "plt.plot(y_test_2, 'r')\n",
    "plt.plot(pred, 'b', lw=0.5)\n",
    "\n",
    "plt.xlim(0,2000)"
   ]
  },
  {
   "cell_type": "code",
   "execution_count": 85,
   "metadata": {},
   "outputs": [
    {
     "name": "stdout",
     "output_type": "stream",
     "text": [
      "Accuracy: 0.9580583592132506\n",
      "Precision: 0.910398319463521\n",
      "Recall: 0.8836260978670013\n",
      "F1: 0.8968124477695093\n"
     ]
    }
   ],
   "source": [
    "from sklearn.metrics import accuracy_score, precision_score, recall_score, f1_score\n",
    "\n",
    "print('Accuracy:', accuracy_score(y_test, pred))\n",
    "print('Precision:', precision_score(y_test, pred))\n",
    "print('Recall:', recall_score(y_test, pred))\n",
    "print('F1:', f1_score(y_test, pred))"
   ]
  },
  {
   "cell_type": "code",
   "execution_count": 90,
   "metadata": {},
   "outputs": [
    {
     "name": "stdout",
     "output_type": "stream",
     "text": [
      "Accuracy: 0.6719492868462758\n",
      "Precision: 0.555205047318612\n",
      "Recall: 0.7272727272727273\n",
      "F1: 0.629695885509839\n"
     ]
    }
   ],
   "source": [
    "from sklearn.metrics import accuracy_score, precision_score, recall_score, f1_score\n",
    "\n",
    "print('Accuracy:', accuracy_score(y_test_2, pred))\n",
    "print('Precision:', precision_score(y_test_2, pred))\n",
    "print('Recall:', recall_score(y_test_2, pred))\n",
    "print('F1:', f1_score(y_test_2, pred))"
   ]
  },
  {
   "cell_type": "code",
   "execution_count": 86,
   "metadata": {},
   "outputs": [
    {
     "data": {
      "text/plain": [
       "<matplotlib.legend.Legend at 0x316c860a0>"
      ]
     },
     "execution_count": 86,
     "metadata": {},
     "output_type": "execute_result"
    },
    {
     "data": {
      "image/png": "[encoded data removed]",
      "text/plain": [
       "<Figure size 700x200 with 1 Axes>"
      ]
     },
     "metadata": {},
     "output_type": "display_data"
    }
   ],
   "source": [
    "plt.rcParams[\"figure.figsize\"] = (7, 2)\n",
    "plt.plot(dataset.ts['Blackpool_Combined_FINAL'][:2000].cpu(), dataset.label_ts['Blackpool_Combined_FINAL'][:2000].cpu(), c='tab:red', label='test data')\n",
    "plt.plot(dataset.ts['Blackpool_Combined_FINAL'][:2000].cpu(), classifier(dataset.features['Blackpool_Combined_FINAL'][None, :2000, :])[0].cpu().detach(), c='b', lw=0.75, label='model predictions')\n",
    "\n",
    "plt.xlabel('time (s)')\n",
    "plt.ylabel('(probability of) call')\n",
    "plt.tight_layout()\n",
    "plt.legend(loc='center right')"
   ]
  },
  {
   "cell_type": "code",
   "execution_count": null,
   "metadata": {},
   "outputs": [],
   "source": []
  }
 ],
 "metadata": {
  "kernelspec": {
   "display_name": "venv",
   "language": "python",
   "name": "python3"
  },
  "language_info": {
   "codemirror_mode": {
    "name": "ipython",
    "version": 3
   },
   "file_extension": ".py",
   "mimetype": "text/x-python",
   "name": "python",
   "nbconvert_exporter": "python",
   "pygments_lexer": "ipython3",
   "version": "3.9.16"
  },
  "orig_nbformat": 4
 },
 "nbformat": 4,
 "nbformat_minor": 2
}
